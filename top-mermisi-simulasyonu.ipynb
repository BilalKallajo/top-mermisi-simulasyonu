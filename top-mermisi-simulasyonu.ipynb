{
 "cells": [
  {
   "cell_type": "code",
   "execution_count": 7,
   "metadata": {
    "collapsed": true,
    "ExecuteTime": {
     "start_time": "2023-04-25T20:25:37.300345Z",
     "end_time": "2023-04-25T20:25:38.200846Z"
    }
   },
   "outputs": [],
   "source": [
    "#Kütüphane importları\n",
    "import matplotlib.pyplot as plt\n",
    "import math\n",
    "import random"
   ]
  },
  {
   "cell_type": "code",
   "execution_count": 5,
   "outputs": [],
   "source": [
    "#plot_trajectory fonksiyonu\n",
    "def plot_trajectory(hiz, aci, okul_numarasi_yukseklik, atis_sayisi):\n",
    "    g = 10\n",
    "    Vx = yatay_hiz(hiz, aci)\n",
    "    Vy0 = dikey_hiz(hiz, aci)\n",
    "    Tu = ucus_suresi(Vy0)\n",
    "    time_steps = 1000\n",
    "    delta_t = Tu / time_steps\n",
    "\n",
    "    x = []\n",
    "    y = []\n",
    "    for t in range(time_steps + 1):\n",
    "        t = t * delta_t\n",
    "        xt = Vx * t\n",
    "        yt = Vy0 * t - (1 / 2) * g * t ** 2 + okul_numarasi_yukseklik\n",
    "        x.append(xt)\n",
    "        y.append(yt)\n",
    "\n",
    "    plt.plot(x, y, label=f\"Atış {atis_sayisi}\")"
   ],
   "metadata": {
    "collapsed": false,
    "ExecuteTime": {
     "start_time": "2023-04-25T20:25:27.074768Z",
     "end_time": "2023-04-25T20:25:27.081750Z"
    }
   }
  },
  {
   "cell_type": "code",
   "execution_count": 4,
   "outputs": [],
   "source": [
    "#yatay_hiz fonksiyonu\n",
    "def yatay_hiz(hiz, aci):\n",
    "    return hiz * math.cos(math.radians(aci))\n",
    "#dikey_hiz fonksiyonu\n",
    "def dikey_hiz(hiz, aci):\n",
    "    return hiz * math.sin(math.radians(aci))\n",
    "\n",
    "#ucus_suresi fonksiyonu\n",
    "def ucus_suresi(dikey_hiz):\n",
    "    g = 10\n",
    "    return 2 * dikey_hiz / g\n",
    "\n",
    "#menzil fonksiyonu\n",
    "def menzil(yatay_hiz, ucus_suresi):\n",
    "    return yatay_hiz * ucus_suresi"
   ],
   "metadata": {
    "collapsed": false,
    "ExecuteTime": {
     "start_time": "2023-04-25T20:25:25.463736Z",
     "end_time": "2023-04-25T20:25:25.474705Z"
    }
   }
  },
  {
   "cell_type": "code",
   "execution_count": 3,
   "outputs": [],
   "source": [
    "#hedef_vuruldu fonksiyonu\n",
    "def hedef_vuruldu(hedef_genislik_baslangic, hedef_genislik_bitis, menzil):\n",
    "    return hedef_genislik_baslangic <= menzil <= hedef_genislik_bitis\n",
    "\n",
    "#atis_yap fonksiyonu\n",
    "def atis_yap(hiz, aci, okul_numarasi_yukseklik):\n",
    "    Vx = yatay_hiz(hiz, aci)\n",
    "    Vy0 = dikey_hiz(hiz, aci)\n",
    "    Tu = ucus_suresi(Vy0)\n",
    "    X = menzil(Vx, Tu)\n",
    "    return X\n"
   ],
   "metadata": {
    "collapsed": false,
    "ExecuteTime": {
     "start_time": "2023-04-25T20:25:23.288440Z",
     "end_time": "2023-04-25T20:25:23.304397Z"
    }
   }
  },
  {
   "cell_type": "code",
   "execution_count": 2,
   "outputs": [],
   "source": [
    "#top_atislari fonksiyonu\n",
    "def top_atislari(son_iki_hane):\n",
    "    hiz_alt_sinir = 330\n",
    "    hiz_ust_sinir = 1800\n",
    "    aci = 30\n",
    "    hedef_genislik = 1000\n",
    "\n",
    "    hedef_uzaklik = 20000 + 200 * random.randint(-10, 10)\n",
    "    hedef_genislik_baslangic = hedef_uzaklik\n",
    "    hedef_genislik_bitis = hedef_uzaklik + hedef_genislik + 100 * random.randint(-2, 2)\n",
    "\n",
    "    atis_sayisi = 0\n",
    "    vuruldu = False\n",
    "\n",
    "    while not vuruldu:\n",
    "        atis_sayisi += 1\n",
    "        hiz = (hiz_alt_sinir + hiz_ust_sinir) / 2\n",
    "        menzil = atis_yap(hiz, aci, son_iki_hane)\n",
    "\n",
    "        plot_trajectory(hiz, aci, son_iki_hane, atis_sayisi)\n",
    "\n",
    "        if hedef_vuruldu(hedef_genislik_baslangic, hedef_genislik_bitis, menzil):\n",
    "            vuruldu = True\n",
    "            print(\"Hedefi vurdun\")\n",
    "            print(f\"{atis_sayisi}. seferde vuruş gerçekleşmiştir. Hedefi vurmak için gerekli hız: {hiz} m/s\")\n",
    "        else:\n",
    "            if menzil < hedef_genislik_baslangic:\n",
    "                hiz_alt_sinir = hiz\n",
    "                print(\"Önüne düştü\")\n",
    "            else:\n",
    "                hiz_ust_sinir = hiz\n",
    "                print(\"Uzağına düştü\")\n",
    "\n",
    "    plt.xlabel('x (m)')\n",
    "    plt.ylabel('y (m)')\n",
    "    plt.title('Top Mermisi Atışları')\n",
    "    plt.legend()\n",
    "    plt.show()\n",
    "\n",
    "    return atis_sayisi"
   ],
   "metadata": {
    "collapsed": false,
    "ExecuteTime": {
     "start_time": "2023-04-25T20:25:20.686368Z",
     "end_time": "2023-04-25T20:25:20.698336Z"
    }
   }
  },
  {
   "cell_type": "code",
   "execution_count": 15,
   "outputs": [],
   "source": [
    "#son_iki_hane ve atis_sayisi değişkenlerinin tanımlanması ve top_atislari fonksiyonunun çağrılması\n",
    "son_iki_hane = 30\n",
    "atis_sayisi = top_atislari(son_iki_hane)"
   ],
   "metadata": {
    "collapsed": false,
    "ExecuteTime": {
     "start_time": "2023-04-25T20:31:41.592900Z",
     "end_time": "2023-04-25T20:31:42.014807Z"
    }
   }
  }
 ],
 "metadata": {
  "kernelspec": {
   "display_name": "Python 3",
   "language": "python",
   "name": "python3"
  },
  "language_info": {
   "codemirror_mode": {
    "name": "ipython",
    "version": 2
   },
   "file_extension": ".py",
   "mimetype": "text/x-python",
   "name": "python",
   "nbconvert_exporter": "python",
   "pygments_lexer": "ipython2",
   "version": "2.7.6"
  }
 },
 "nbformat": 4,
 "nbformat_minor": 0
}
